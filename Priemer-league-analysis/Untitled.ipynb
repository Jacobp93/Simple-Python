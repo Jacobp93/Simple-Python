{
 "cells": [
  {
   "cell_type": "code",
   "execution_count": 1,
   "metadata": {},
   "outputs": [],
   "source": [
    "import requests "
   ]
  },
  {
   "cell_type": "code",
   "execution_count": 3,
   "metadata": {},
   "outputs": [],
   "source": [
    "standings_url = \"https://fbref.com/en/comps/9/Premier-League-Stats\""
   ]
  },
  {
   "cell_type": "code",
   "execution_count": 8,
   "metadata": {},
   "outputs": [],
   "source": [
    "data = requests.get(standings_url)"
   ]
  },
  {
   "cell_type": "code",
   "execution_count": 12,
   "metadata": {},
   "outputs": [],
   "source": [
    "from bs4 import BeautifulSoup"
   ]
  },
  {
   "cell_type": "code",
   "execution_count": 14,
   "metadata": {},
   "outputs": [],
   "source": [
    "soup = BeautifulSoup(data.text)"
   ]
  },
  {
   "cell_type": "code",
   "execution_count": 16,
   "metadata": {},
   "outputs": [],
   "source": [
    "standings_table = soup.select('table.stats_table')[0]"
   ]
  },
  {
   "cell_type": "code",
   "execution_count": 17,
   "metadata": {},
   "outputs": [],
   "source": [
    "links = standings_table.find_all('a')"
   ]
  },
  {
   "cell_type": "code",
   "execution_count": 21,
   "metadata": {},
   "outputs": [],
   "source": [
    "links = [l.get(\"href\") for l in links]"
   ]
  },
  {
   "cell_type": "code",
   "execution_count": 22,
   "metadata": {},
   "outputs": [],
   "source": [
    "links = [l for l in links if '/squads/' in l]"
   ]
  },
  {
   "cell_type": "code",
   "execution_count": 44,
   "metadata": {},
   "outputs": [],
   "source": [
    "team_url = [f\"https://fbref.com{l}\" for l in links]"
   ]
  },
  {
   "cell_type": "code",
   "execution_count": 45,
   "metadata": {},
   "outputs": [
    {
     "data": {
      "text/plain": [
       "['https://fbref.com/en/squads/b8fd03ef/Manchester-City-Stats',\n",
       " 'https://fbref.com/en/squads/822bd0ba/Liverpool-Stats',\n",
       " 'https://fbref.com/en/squads/cff3d9bb/Chelsea-Stats',\n",
       " 'https://fbref.com/en/squads/361ca564/Tottenham-Hotspur-Stats',\n",
       " 'https://fbref.com/en/squads/18bb7c10/Arsenal-Stats',\n",
       " 'https://fbref.com/en/squads/19538871/Manchester-United-Stats',\n",
       " 'https://fbref.com/en/squads/7c21e445/West-Ham-United-Stats',\n",
       " 'https://fbref.com/en/squads/a2d435b3/Leicester-City-Stats',\n",
       " 'https://fbref.com/en/squads/d07537b9/Brighton-and-Hove-Albion-Stats',\n",
       " 'https://fbref.com/en/squads/8cec06e1/Wolverhampton-Wanderers-Stats',\n",
       " 'https://fbref.com/en/squads/b2b47a98/Newcastle-United-Stats',\n",
       " 'https://fbref.com/en/squads/47c64c55/Crystal-Palace-Stats',\n",
       " 'https://fbref.com/en/squads/cd051869/Brentford-Stats',\n",
       " 'https://fbref.com/en/squads/8602292d/Aston-Villa-Stats',\n",
       " 'https://fbref.com/en/squads/33c895d4/Southampton-Stats',\n",
       " 'https://fbref.com/en/squads/d3fd31cc/Everton-Stats',\n",
       " 'https://fbref.com/en/squads/5bfb9659/Leeds-United-Stats',\n",
       " 'https://fbref.com/en/squads/943e8050/Burnley-Stats',\n",
       " 'https://fbref.com/en/squads/2abfe087/Watford-Stats',\n",
       " 'https://fbref.com/en/squads/1c781004/Norwich-City-Stats']"
      ]
     },
     "execution_count": 45,
     "metadata": {},
     "output_type": "execute_result"
    }
   ],
   "source": [
    "team_url"
   ]
  },
  {
   "cell_type": "code",
   "execution_count": 46,
   "metadata": {},
   "outputs": [],
   "source": [
    "team_url = team_url[0]\n"
   ]
  },
  {
   "cell_type": "code",
   "execution_count": 49,
   "metadata": {},
   "outputs": [],
   "source": [
    "data = requests.get(team_url)"
   ]
  },
  {
   "cell_type": "code",
   "execution_count": 55,
   "metadata": {},
   "outputs": [],
   "source": [
    "import pandas as pd \n",
    "\n",
    "matches = pd.read_html(data.text, match=\"Scores & Fixtures\")"
   ]
  },
  {
   "cell_type": "code",
   "execution_count": 56,
   "metadata": {},
   "outputs": [
    {
     "data": {
      "text/plain": [
       "[          Date   Time              Comp                Round  Day    Venue  \\\n",
       " 0   2021-08-07  17:15  Community Shield  FA Community Shield  Sat  Neutral   \n",
       " 1   2021-08-15  16:30    Premier League          Matchweek 1  Sun     Away   \n",
       " 2   2021-08-21  15:00    Premier League          Matchweek 2  Sat     Home   \n",
       " 3   2021-08-28  12:30    Premier League          Matchweek 3  Sat     Home   \n",
       " 4   2021-09-11  15:00    Premier League          Matchweek 4  Sat     Away   \n",
       " 5   2021-09-15  20:00      Champions Lg          Group stage  Wed     Home   \n",
       " 6   2021-09-18  15:00    Premier League          Matchweek 5  Sat     Home   \n",
       " 7   2021-09-21  19:45           EFL Cup          Third round  Tue     Home   \n",
       " 8   2021-09-25  12:30    Premier League          Matchweek 6  Sat     Away   \n",
       " 9   2021-09-28  21:00      Champions Lg          Group stage  Tue     Away   \n",
       " 10  2021-10-03  16:30    Premier League          Matchweek 7  Sun     Away   \n",
       " 11  2021-10-16  15:00    Premier League          Matchweek 8  Sat     Home   \n",
       " 12  2021-10-19  18:45      Champions Lg          Group stage  Tue     Away   \n",
       " 13  2021-10-23  17:30    Premier League          Matchweek 9  Sat     Away   \n",
       " 14  2021-10-27  19:45           EFL Cup         Fourth round  Wed     Away   \n",
       " 15  2021-10-30  15:00    Premier League         Matchweek 10  Sat     Home   \n",
       " 16  2021-11-03  20:00      Champions Lg          Group stage  Wed     Home   \n",
       " 17  2021-11-06  12:30    Premier League         Matchweek 11  Sat     Away   \n",
       " 18  2021-11-21  14:00    Premier League         Matchweek 12  Sun     Home   \n",
       " 19  2021-11-24  20:00      Champions Lg          Group stage  Wed     Home   \n",
       " 20  2021-11-28  14:00    Premier League         Matchweek 13  Sun     Home   \n",
       " 21  2021-12-01  20:15    Premier League         Matchweek 14  Wed     Away   \n",
       " 22  2021-12-04  17:30    Premier League         Matchweek 15  Sat     Away   \n",
       " 23  2021-12-07  18:45      Champions Lg          Group stage  Tue     Away   \n",
       " 24  2021-12-11  12:30    Premier League         Matchweek 16  Sat     Home   \n",
       " 25  2021-12-14  20:00    Premier League         Matchweek 17  Tue     Home   \n",
       " 26  2021-12-19  14:15    Premier League         Matchweek 18  Sun     Away   \n",
       " 27  2021-12-26  15:00    Premier League         Matchweek 19  Sun     Home   \n",
       " 28  2021-12-29  20:15    Premier League         Matchweek 20  Wed     Away   \n",
       " 29  2022-01-01  12:30    Premier League         Matchweek 21  Sat     Away   \n",
       " 30  2022-01-07  20:00            FA Cup   Third round proper  Fri     Away   \n",
       " 31  2022-01-15  12:30    Premier League         Matchweek 22  Sat     Home   \n",
       " 32  2022-01-22  17:30    Premier League         Matchweek 23  Sat     Away   \n",
       " 33  2022-02-05  15:00            FA Cup  Fourth round proper  Sat     Home   \n",
       " 34  2022-02-09  19:45    Premier League         Matchweek 24  Wed     Home   \n",
       " 35  2022-02-12  17:30    Premier League         Matchweek 25  Sat     Away   \n",
       " 36  2022-02-15  20:00      Champions Lg          Round of 16  Tue     Away   \n",
       " 37  2022-02-19  17:30    Premier League         Matchweek 26  Sat     Home   \n",
       " 38  2022-02-26  17:30    Premier League         Matchweek 27  Sat     Away   \n",
       " 39  2022-03-01  19:15            FA Cup   Fifth round proper  Tue     Away   \n",
       " 40  2022-03-06  16:30    Premier League         Matchweek 28  Sun     Home   \n",
       " 41  2022-03-09  20:00      Champions Lg          Round of 16  Wed     Home   \n",
       " 42  2022-03-14  20:00    Premier League         Matchweek 29  Mon     Away   \n",
       " 43  2022-03-20  15:00            FA Cup       Quarter-finals  Sun     Away   \n",
       " 44  2022-04-02  15:00    Premier League         Matchweek 31  Sat     Away   \n",
       " 45  2022-04-05  20:00      Champions Lg       Quarter-finals  Tue     Home   \n",
       " 46  2022-04-10  16:30    Premier League         Matchweek 32  Sun     Home   \n",
       " 47  2022-04-13  21:00      Champions Lg       Quarter-finals  Wed     Away   \n",
       " 48  2022-04-16  15:30            FA Cup          Semi-finals  Sat     Home   \n",
       " 49  2022-04-20  20:00    Premier League         Matchweek 30  Wed     Home   \n",
       " 50  2022-04-23  15:00    Premier League         Matchweek 34  Sat     Home   \n",
       " 51  2022-04-26  20:00      Champions Lg          Semi-finals  Tue     Home   \n",
       " 52  2022-04-30  17:30    Premier League         Matchweek 35  Sat     Away   \n",
       " 53  2022-05-04  21:00      Champions Lg          Semi-finals  Wed     Away   \n",
       " 54  2022-05-08  16:30    Premier League         Matchweek 36  Sun     Home   \n",
       " 55  2022-05-11  20:15    Premier League         Matchweek 33  Wed     Away   \n",
       " 56  2022-05-15  14:00    Premier League         Matchweek 37  Sun     Away   \n",
       " 57  2022-05-22  16:00    Premier League         Matchweek 38  Sun     Home   \n",
       " \n",
       "    Result     GF     GA            Opponent   xG  xGA  Poss  Attendance  \\\n",
       " 0       L      0      1      Leicester City  NaN  NaN    57         NaN   \n",
       " 1       L      0      1           Tottenham  1.9  1.3    64     58262.0   \n",
       " 2       W      5      0        Norwich City  2.7  0.1    67     51437.0   \n",
       " 3       W      5      0             Arsenal  3.8  0.1    80     52276.0   \n",
       " 4       W      1      0      Leicester City  2.9  0.8    61     32087.0   \n",
       " 5       W      6      3       de RB Leipzig  2.1  0.6    51     38062.0   \n",
       " 6       D      0      0         Southampton  1.1  0.4    63     52698.0   \n",
       " 7       W      6      1             Wycombe  NaN  NaN    79     30959.0   \n",
       " 8       W      1      0             Chelsea  1.7  0.3    60     40036.0   \n",
       " 9       L      0      2        fr Paris S-G  1.9  0.8    54     37350.0   \n",
       " 10      D      2      2           Liverpool  1.2  1.0    51     53102.0   \n",
       " 11      W      2      0             Burnley  1.9  1.0    69     52711.0   \n",
       " 12      W      5      1      be Club Brugge  3.9  0.8    63     24915.0   \n",
       " 13      W      4      1            Brighton  3.9  1.3    52     31215.0   \n",
       " 14      D  0 (3)  0 (5)            West Ham  NaN  NaN    64     60000.0   \n",
       " 15      L      0      2      Crystal Palace  1.1  1.1    68     53014.0   \n",
       " 16      W      4      1      be Club Brugge  4.4  0.8    70     50228.0   \n",
       " 17      W      2      0      Manchester Utd  2.0  0.6    67     73086.0   \n",
       " 18      W      3      0             Everton  2.3  0.3    76     52571.0   \n",
       " 19      W      2      1        fr Paris S-G  1.6  1.0    54     52030.0   \n",
       " 20      W      2      1            West Ham  2.1  0.2    67     53245.0   \n",
       " 21      W      2      1         Aston Villa  0.9  0.9    64     41400.0   \n",
       " 22      W      3      1             Watford  3.6  0.7    76     20673.0   \n",
       " 23      L      1      2       de RB Leipzig  1.3  1.7    56         NaN   \n",
       " 24      W      1      0              Wolves  3.5  0.2    71     52613.0   \n",
       " 25      W      7      0        Leeds United  3.6  0.2    64     52401.0   \n",
       " 26      W      4      0       Newcastle Utd  3.1  0.4    71     52127.0   \n",
       " 27      W      6      3      Leicester City  3.4  2.4    72     53226.0   \n",
       " 28      W      1      0           Brentford  0.8  0.3    76     17009.0   \n",
       " 29      W      2      1             Arsenal  1.8  1.0    70     59757.0   \n",
       " 30      W      4      1        Swindon Town  NaN  NaN    77     14753.0   \n",
       " 31      W      1      0             Chelsea  0.7  0.5    56     53319.0   \n",
       " 32      D      1      1         Southampton  1.6  1.1    73     31178.0   \n",
       " 33      W      4      1              Fulham  NaN  NaN    61     53400.0   \n",
       " 34      W      2      0           Brentford  2.0  0.7    75     51658.0   \n",
       " 35      W      4      0        Norwich City  4.6  0.5    72     27010.0   \n",
       " 36      W      5      0      pt Sporting CP  1.8  0.1    64     48129.0   \n",
       " 37      L      2      3           Tottenham  2.1  1.8    71     53201.0   \n",
       " 38      W      1      0             Everton  1.6  0.8    67     39105.0   \n",
       " 39      W      2      0       P'borough Utd  NaN  NaN    76     13405.0   \n",
       " 40      W      4      1      Manchester Utd  2.6  0.5    69     53165.0   \n",
       " 41      D      0      0      pt Sporting CP  1.1  0.4    69     51213.0   \n",
       " 42      D      0      0      Crystal Palace  2.3  0.8    74     25309.0   \n",
       " 43      W      4      1         Southampton  NaN  NaN    65     29702.0   \n",
       " 44      W      2      0             Burnley  1.8  0.1    75     21249.0   \n",
       " 45      W      1      0  es Atlético Madrid  0.8  0.0    70     52018.0   \n",
       " 46      D      2      2           Liverpool  2.0  1.0    55     53197.0   \n",
       " 47      D      0      0  es Atlético Madrid  1.0  1.1    59     65675.0   \n",
       " 48      L      2      3           Liverpool  NaN  NaN    49     73793.0   \n",
       " 49      W      3      0            Brighton  1.1  0.1    64     52226.0   \n",
       " 50      W      5      1             Watford  3.0  0.5    73     53013.0   \n",
       " 51      W      4      3      es Real Madrid  2.7  1.6    60     52217.0   \n",
       " 52      W      4      0        Leeds United  2.7  1.2    59     35771.0   \n",
       " 53      L      1      3      es Real Madrid  1.6  2.6    53     61416.0   \n",
       " 54      W      5      0       Newcastle Utd  3.1  0.9    71     53336.0   \n",
       " 55      W      5      1              Wolves  3.1  0.5    67         NaN   \n",
       " 56      D      2      2            West Ham  2.5  1.3    78     59972.0   \n",
       " 57      W      3      2         Aston Villa  2.9  0.3    71     53395.0   \n",
       " \n",
       "                 Captain Formation              Referee  Match Report  \\\n",
       " 0           Fernandinho     4-3-3         Paul Tierney  Match Report   \n",
       " 1           Fernandinho     4-3-3       Anthony Taylor  Match Report   \n",
       " 2        İlkay Gündoğan     4-3-3         Graham Scott  Match Report   \n",
       " 3        İlkay Gündoğan     4-3-3      Martin Atkinson  Match Report   \n",
       " 4        İlkay Gündoğan     4-3-3         Paul Tierney  Match Report   \n",
       " 5            Rúben Dias     4-3-3     Serdar Gözübüyük  Match Report   \n",
       " 6           Fernandinho     4-3-3        Jonathan Moss  Match Report   \n",
       " 7       Kevin De Bruyne     4-3-3         Robert Jones  Match Report   \n",
       " 8            Rúben Dias     4-3-3       Michael Oliver  Match Report   \n",
       " 9            Rúben Dias     4-3-3     Carlos del Cerro  Match Report   \n",
       " 10           Rúben Dias     4-3-3         Paul Tierney  Match Report   \n",
       " 11      Kevin De Bruyne     4-3-3      Martin Atkinson  Match Report   \n",
       " 12           Rúben Dias     4-3-3        István Kovács  Match Report   \n",
       " 13       İlkay Gündoğan     4-3-3         Kevin Friend  Match Report   \n",
       " 14          Fernandinho     4-3-3        Jonathan Moss  Match Report   \n",
       " 15           Rúben Dias     4-3-3       Andre Marriner  Match Report   \n",
       " 16       İlkay Gündoğan     4-3-3  Antonio Matéu Lahoz  Match Report   \n",
       " 17       İlkay Gündoğan     4-3-3       Michael Oliver  Match Report   \n",
       " 18       İlkay Gündoğan     4-3-3       Stuart Attwell  Match Report   \n",
       " 19       İlkay Gündoğan     4-3-3       Daniele Orsato  Match Report   \n",
       " 20       İlkay Gündoğan     4-3-3       Michael Oliver  Match Report   \n",
       " 21          Fernandinho   4-2-3-1            Mike Dean  Match Report   \n",
       " 22       İlkay Gündoğan     4-3-3         Simon Hooper  Match Report   \n",
       " 23          Fernandinho     4-3-3       Sandro Schärer  Match Report   \n",
       " 24       İlkay Gündoğan     4-3-3        Jonathan Moss  Match Report   \n",
       " 25           Rúben Dias     4-3-3         Paul Tierney  Match Report   \n",
       " 26           Rúben Dias     4-3-3      Martin Atkinson  Match Report   \n",
       " 27          Fernandinho     4-3-3       Chris Kavanagh  Match Report   \n",
       " 28          Fernandinho     4-3-3          David Coote  Match Report   \n",
       " 29           Rúben Dias     4-3-3       Stuart Attwell  Match Report   \n",
       " 30       İlkay Gündoğan     4-3-3       Darren England  Match Report   \n",
       " 31      Kevin De Bruyne     4-3-3         Craig Pawson  Match Report   \n",
       " 32           Rúben Dias     4-3-3         Simon Hooper  Match Report   \n",
       " 33          Fernandinho     4-3-3       Jarred Gillett  Match Report   \n",
       " 34           Rúben Dias     4-3-3       Darren England  Match Report   \n",
       " 35          Fernandinho     4-3-3       Andre Marriner  Match Report   \n",
       " 36           Rúben Dias     4-3-3    Srdjan Stojanovic  Match Report   \n",
       " 37       İlkay Gündoğan     4-3-3       Anthony Taylor  Match Report   \n",
       " 38       İlkay Gündoğan     4-3-3         Paul Tierney  Match Report   \n",
       " 39  Oleksandr Zinchenko     4-3-3          Andy Madley  Match Report   \n",
       " 40      Kevin De Bruyne     4-3-3       Michael Oliver  Match Report   \n",
       " 41          Fernandinho     4-3-3     Halil Umut Meler  Match Report   \n",
       " 42      Kevin De Bruyne     4-3-3      Martin Atkinson  Match Report   \n",
       " 43       İlkay Gündoğan     4-3-3            Mike Dean  Match Report   \n",
       " 44       İlkay Gündoğan     4-3-3         Craig Pawson  Match Report   \n",
       " 45       İlkay Gündoğan     4-3-3        István Kovács  Match Report   \n",
       " 46      Kevin De Bruyne   4-2-3-1       Anthony Taylor  Match Report   \n",
       " 47       İlkay Gündoğan     4-3-3       Daniel Siebert  Match Report   \n",
       " 48          Fernandinho     4-3-3       Michael Oliver  Match Report   \n",
       " 49       İlkay Gündoğan     4-3-3            Mike Dean  Match Report   \n",
       " 50          Fernandinho   4-2-3-1         Kevin Friend  Match Report   \n",
       " 51           Rúben Dias     4-3-3        István Kovács  Match Report   \n",
       " 52       İlkay Gündoğan   4-2-3-1         Paul Tierney  Match Report   \n",
       " 53           Rúben Dias     4-3-3       Daniele Orsato  Match Report   \n",
       " 54       İlkay Gündoğan   4-2-3-1       Stuart Attwell  Match Report   \n",
       " 55          Fernandinho   4-2-3-1      Martin Atkinson  Match Report   \n",
       " 56          Fernandinho     4-3-3       Anthony Taylor  Match Report   \n",
       " 57          Fernandinho     4-3-3       Michael Oliver  Match Report   \n",
       " \n",
       "                                                 Notes  \n",
       " 0                                                 NaN  \n",
       " 1                                                 NaN  \n",
       " 2                                                 NaN  \n",
       " 3                                                 NaN  \n",
       " 4                                                 NaN  \n",
       " 5                                                 NaN  \n",
       " 6                                                 NaN  \n",
       " 7                                                 NaN  \n",
       " 8                                                 NaN  \n",
       " 9                                                 NaN  \n",
       " 10                                                NaN  \n",
       " 11                                                NaN  \n",
       " 12                                                NaN  \n",
       " 13                                                NaN  \n",
       " 14  West Ham won on penalty kicks following extra ...  \n",
       " 15                                                NaN  \n",
       " 16                                                NaN  \n",
       " 17                                                NaN  \n",
       " 18                                                NaN  \n",
       " 19                                                NaN  \n",
       " 20                                                NaN  \n",
       " 21                                                NaN  \n",
       " 22                                                NaN  \n",
       " 23                                                NaN  \n",
       " 24                                                NaN  \n",
       " 25                                                NaN  \n",
       " 26                                                NaN  \n",
       " 27                                                NaN  \n",
       " 28                                                NaN  \n",
       " 29                                                NaN  \n",
       " 30                                                NaN  \n",
       " 31                                                NaN  \n",
       " 32                                                NaN  \n",
       " 33                                                NaN  \n",
       " 34                                                NaN  \n",
       " 35                                                NaN  \n",
       " 36                                         Leg 1 of 2  \n",
       " 37                                                NaN  \n",
       " 38                                                NaN  \n",
       " 39                                                NaN  \n",
       " 40                                                NaN  \n",
       " 41                    Leg 2 of 2; Manchester City won  \n",
       " 42                                                NaN  \n",
       " 43                                                NaN  \n",
       " 44                                                NaN  \n",
       " 45                                         Leg 1 of 2  \n",
       " 46                                                NaN  \n",
       " 47                    Leg 2 of 2; Manchester City won  \n",
       " 48                                                NaN  \n",
       " 49                                                NaN  \n",
       " 50                                                NaN  \n",
       " 51                                         Leg 1 of 2  \n",
       " 52                                                NaN  \n",
       " 53   Leg 2 of 2; Real Madrid won; Required Extra Time  \n",
       " 54                                                NaN  \n",
       " 55                                                NaN  \n",
       " 56                                                NaN  \n",
       " 57                                                NaN  ]"
      ]
     },
     "execution_count": 56,
     "metadata": {},
     "output_type": "execute_result"
    }
   ],
   "source": [
    "matches"
   ]
  },
  {
   "cell_type": "code",
   "execution_count": null,
   "metadata": {},
   "outputs": [],
   "source": []
  }
 ],
 "metadata": {
  "kernelspec": {
   "display_name": "Python 3",
   "language": "python",
   "name": "python3"
  },
  "language_info": {
   "codemirror_mode": {
    "name": "ipython",
    "version": 3
   },
   "file_extension": ".py",
   "mimetype": "text/x-python",
   "name": "python",
   "nbconvert_exporter": "python",
   "pygments_lexer": "ipython3",
   "version": "3.8.2"
  }
 },
 "nbformat": 4,
 "nbformat_minor": 4
}
